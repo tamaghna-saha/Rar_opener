{
 "cells": [
  {
   "cell_type": "code",
   "execution_count": 3,
   "id": "4ce90a77-5738-422f-8cd7-1ad29e345650",
   "metadata": {},
   "outputs": [
    {
     "name": "stdout",
     "output_type": "stream",
     "text": [
      "Collecting patool\n",
      "  Downloading patool-1.12-py2.py3-none-any.whl (77 kB)\n",
      "     ---------------------------------------- 77.5/77.5 kB 1.4 MB/s eta 0:00:00\n",
      "Installing collected packages: patool\n",
      "Successfully installed patool-1.12\n",
      "Note: you may need to restart the kernel to use updated packages.\n"
     ]
    }
   ],
   "source": [
    "pip install patool\n"
   ]
  },
  {
   "cell_type": "code",
   "execution_count": 5,
   "id": "99a0ab61-a040-4422-a942-0ef05e8c0ab7",
   "metadata": {},
   "outputs": [
    {
     "name": "stdout",
     "output_type": "stream",
     "text": [
      "patool: Extracting D:\\Assignment - Elise\\DATA_AJAY (we have to use this data).rar ...\n",
      "patool: running C:\\ProgramData\\chocolatey\\bin\\7z.EXE x \"-oD:\\Assignment - Elise\" -- \"D:\\Assignment - Elise\\DATA_AJAY (we have to use this data).rar\"\n",
      "patool: ... D:\\Assignment - Elise\\DATA_AJAY (we have to use this data).rar extracted to `D:\\Assignment - Elise'.\n"
     ]
    },
    {
     "data": {
      "text/plain": [
       "'D:\\\\Assignment - Elise'"
      ]
     },
     "execution_count": 5,
     "metadata": {},
     "output_type": "execute_result"
    }
   ],
   "source": [
    "import patoolib\n",
    "patoolib.extract_archive(r\"D:\\Assignment - Elise\\DATA_AJAY (we have to use this data).rar\", outdir=r\"D:\\Assignment - Elise\")"
   ]
  },
  {
   "cell_type": "code",
   "execution_count": null,
   "id": "12ffbce3-e37f-4bcb-8824-c5684f877344",
   "metadata": {},
   "outputs": [],
   "source": []
  }
 ],
 "metadata": {
  "kernelspec": {
   "display_name": "Python 3 (ipykernel)",
   "language": "python",
   "name": "python3"
  },
  "language_info": {
   "codemirror_mode": {
    "name": "ipython",
    "version": 3
   },
   "file_extension": ".py",
   "mimetype": "text/x-python",
   "name": "python",
   "nbconvert_exporter": "python",
   "pygments_lexer": "ipython3",
   "version": "3.9.13"
  }
 },
 "nbformat": 4,
 "nbformat_minor": 5
}
